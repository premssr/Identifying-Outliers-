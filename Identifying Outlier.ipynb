{
 "cells": [
  {
   "cell_type": "code",
   "execution_count": 65,
   "metadata": {},
   "outputs": [],
   "source": [
    "import matplotlib.pyplot as plt\n",
    "import seaborn as sns"
   ]
  },
  {
   "cell_type": "code",
   "execution_count": 66,
   "metadata": {},
   "outputs": [
    {
     "data": {
      "image/png": "[encoded data removed]",
      "text/plain": [
       "<Figure size 360x360 with 4 Axes>"
      ]
     },
     "metadata": {
      "needs_background": "light"
     },
     "output_type": "display_data"
    }
   ],
   "source": [
    "import pandas as pd \n",
    "import numpy as np \n",
    "\n",
    "np.random.seed(12)\n",
    "num_col=4\n",
    "dummydf = pd.DataFrame(np.random.normal(scale=2, size=(500, num_col)),\n",
    "                           columns=['feature{}'.format(i) for i in range(num_col)])\n",
    "# visualizeing the data\n",
    "dummydf.hist(figsize=(5,5));"
   ]
  },
  {
   "cell_type": "code",
   "execution_count": 26,
   "metadata": {},
   "outputs": [
    {
     "data": {
      "text/html": [
       "<div>\n",
       "<style scoped>\n",
       "    .dataframe tbody tr th:only-of-type {\n",
       "        vertical-align: middle;\n",
       "    }\n",
       "\n",
       "    .dataframe tbody tr th {\n",
       "        vertical-align: top;\n",
       "    }\n",
       "\n",
       "    .dataframe thead th {\n",
       "        text-align: right;\n",
       "    }\n",
       "</style>\n",
       "<table border=\"1\" class=\"dataframe\">\n",
       "  <thead>\n",
       "    <tr style=\"text-align: right;\">\n",
       "      <th></th>\n",
       "      <th>feature0</th>\n",
       "      <th>feature1</th>\n",
       "      <th>feature2</th>\n",
       "      <th>feature3</th>\n",
       "    </tr>\n",
       "  </thead>\n",
       "  <tbody>\n",
       "    <tr>\n",
       "      <th>count</th>\n",
       "      <td>500.000000</td>\n",
       "      <td>500.000000</td>\n",
       "      <td>500.000000</td>\n",
       "      <td>500.000000</td>\n",
       "    </tr>\n",
       "    <tr>\n",
       "      <th>mean</th>\n",
       "      <td>0.006620</td>\n",
       "      <td>-0.080608</td>\n",
       "      <td>-0.149902</td>\n",
       "      <td>-0.057199</td>\n",
       "    </tr>\n",
       "    <tr>\n",
       "      <th>std</th>\n",
       "      <td>2.074443</td>\n",
       "      <td>1.918869</td>\n",
       "      <td>1.947833</td>\n",
       "      <td>2.040267</td>\n",
       "    </tr>\n",
       "    <tr>\n",
       "      <th>min</th>\n",
       "      <td>-6.294833</td>\n",
       "      <td>-5.079272</td>\n",
       "      <td>-6.031831</td>\n",
       "      <td>-7.421359</td>\n",
       "    </tr>\n",
       "    <tr>\n",
       "      <th>25%</th>\n",
       "      <td>-1.518772</td>\n",
       "      <td>-1.484648</td>\n",
       "      <td>-1.432121</td>\n",
       "      <td>-1.363717</td>\n",
       "    </tr>\n",
       "    <tr>\n",
       "      <th>50%</th>\n",
       "      <td>0.021040</td>\n",
       "      <td>-0.052843</td>\n",
       "      <td>-0.295099</td>\n",
       "      <td>-0.038074</td>\n",
       "    </tr>\n",
       "    <tr>\n",
       "      <th>75%</th>\n",
       "      <td>1.551925</td>\n",
       "      <td>1.161958</td>\n",
       "      <td>1.153648</td>\n",
       "      <td>1.248597</td>\n",
       "    </tr>\n",
       "    <tr>\n",
       "      <th>max</th>\n",
       "      <td>6.333114</td>\n",
       "      <td>5.957971</td>\n",
       "      <td>6.175078</td>\n",
       "      <td>6.689298</td>\n",
       "    </tr>\n",
       "  </tbody>\n",
       "</table>\n",
       "</div>"
      ],
      "text/plain": [
       "         feature0    feature1    feature2    feature3\n",
       "count  500.000000  500.000000  500.000000  500.000000\n",
       "mean     0.006620   -0.080608   -0.149902   -0.057199\n",
       "std      2.074443    1.918869    1.947833    2.040267\n",
       "min     -6.294833   -5.079272   -6.031831   -7.421359\n",
       "25%     -1.518772   -1.484648   -1.432121   -1.363717\n",
       "50%      0.021040   -0.052843   -0.295099   -0.038074\n",
       "75%      1.551925    1.161958    1.153648    1.248597\n",
       "max      6.333114    5.957971    6.175078    6.689298"
      ]
     },
     "execution_count": 26,
     "metadata": {},
     "output_type": "execute_result"
    }
   ],
   "source": [
    "dummydf.describe()"
   ]
  },
  {
   "cell_type": "code",
   "execution_count": 33,
   "metadata": {},
   "outputs": [],
   "source": [
    "def Outlierbystd(col, reach=3.0, return_value=False):\n",
    "    \n",
    "    col_mean, col_std = col.mean(), col.std()\n",
    "    cut_off = col_std * reach\n",
    "    lower, upper = col_mean - cut_off, col_mean + cut_off\n",
    "    if return_value:\n",
    "        return lower, upper\n",
    "    else:\n",
    "        return [True if x < lower or x > upper else False for x in col]"
   ]
  },
  {
   "cell_type": "code",
   "execution_count": 34,
   "metadata": {},
   "outputs": [],
   "source": [
    "\n",
    "\n",
    "def Outlierbyiqr(col, k=1.5, return_value=False):\n",
    "    \n",
    "    \n",
    "    q_25, q_75 = np.percentile(col, 25), np.percentile(col, 75)\n",
    "    iqr = q_75 - q_25\n",
    "    cut_off = iqr * k\n",
    "    lower, upper = q_25 - cut_off, q_75 + cut_off\n",
    "    if return_value:\n",
    "        return lower, upper\n",
    "    else: \n",
    "        return [True if x < lower or x > upper else False for x in col]"
   ]
  },
  {
   "cell_type": "code",
   "execution_count": 37,
   "metadata": {},
   "outputs": [
    {
     "data": {
      "text/plain": [
       "[False, False, False, False, False]"
      ]
     },
     "execution_count": 37,
     "metadata": {},
     "output_type": "execute_result"
    }
   ],
   "source": [
    "outlier_mask = Outlierbystd(dummydf['feature0'], reach=3.0)\n",
    "# first 5 elements\n",
    "outlier_mask[:5]"
   ]
  },
  {
   "cell_type": "code",
   "execution_count": 40,
   "metadata": {},
   "outputs": [
    {
     "data": {
      "text/plain": [
       "12    -6.294833\n",
       "124    6.333114\n",
       "Name: feature0, dtype: float64"
      ]
     },
     "execution_count": 40,
     "metadata": {},
     "output_type": "execute_result"
    }
   ],
   "source": [
    "dummydf['feature0'][outlier_mask]"
   ]
  },
  {
   "cell_type": "code",
   "execution_count": 41,
   "metadata": {},
   "outputs": [
    {
     "data": {
      "image/png": "[encoded data removed]",
      "text/plain": [
       "<Figure size 576x432 with 1 Axes>"
      ]
     },
     "metadata": {
      "needs_background": "light"
     },
     "output_type": "display_data"
    }
   ],
   "source": [
    "plt.figure(figsize=(8,6))\n",
    "sns.distplot(dummydf['feature0'], kde=False);\n",
    "plt.vlines(dummydf['feature0'][outlier_mask], ymin=0, ymax=110, linestyles='dashed');"
   ]
  },
  {
   "cell_type": "code",
   "execution_count": null,
   "metadata": {},
   "outputs": [],
   "source": []
  },
  {
   "cell_type": "code",
   "execution_count": null,
   "metadata": {},
   "outputs": [],
   "source": []
  },
  {
   "cell_type": "code",
   "execution_count": 61,
   "metadata": {},
   "outputs": [
    {
     "data": {
      "image/png": "[encoded data removed]",
      "text/plain": [
       "<Figure size 432x288 with 1 Axes>"
      ]
     },
     "metadata": {
      "needs_background": "light"
     },
     "output_type": "display_data"
    }
   ],
   "source": [
    "def plot_span(dataframe, col, reach=2.0, color='red'):\n",
    "    \n",
    "    lower, upper = Outlierbystd(dataframe[col], reach=reach, return_value=True)\n",
    "    plt.axvspan(min(dataframe[col][dataframe[col] < lower], default=dataframe[col].min()), lower, alpha=0.5, color=color)\n",
    "    plt.axvspan(upper, max(dataframe[col][dataframe[col] > upper], default=dataframe[col].max()), alpha=0.5, color=color)\n",
    "    plt.plot()\n",
    "column = 'feature0'\n",
    "sns.distplot(dummydf[column], kde=False)\n",
    "plot_span(dummydf, column, reach=2.0, color='red')\n",
    "plot_span(dummydf, column, reach=3.0, color='green')\n",
    "plot_span(dummydf, column, reach=4.0, color='yellow')"
   ]
  },
  {
   "cell_type": "code",
   "execution_count": 59,
   "metadata": {},
   "outputs": [
    {
     "data": {
      "image/png": "[encoded data removed]",
      "text/plain": [
       "<Figure size 432x288 with 1 Axes>"
      ]
     },
     "metadata": {
      "needs_background": "light"
     },
     "output_type": "display_data"
    }
   ],
   "source": [
    "column = 'feature0'\n",
    "sns.distplot(dummydf[column], kde=False)\n",
    "plot_span(dummydf, column, nstd=2.0, color='red')\n",
    "plot_span(dummydf, column, nstd=3.0, color='green')\n",
    "plot_span(dummydf, column, nstd=4.0, color='yellow')"
   ]
  },
  {
   "cell_type": "code",
   "execution_count": 63,
   "metadata": {},
   "outputs": [
    {
     "data": {
      "image/png": "[encoded data removed]",
      "text/plain": [
       "<Figure size 432x288 with 1 Axes>"
      ]
     },
     "metadata": {
      "needs_background": "light"
     },
     "output_type": "display_data"
    }
   ],
   "source": [
    "dummydf.boxplot();"
   ]
  },
  {
   "cell_type": "code",
   "execution_count": null,
   "metadata": {},
   "outputs": [],
   "source": []
  }
 ],
 "metadata": {
  "kernelspec": {
   "display_name": "Python 3",
   "language": "python",
   "name": "python3"
  },
  "language_info": {
   "codemirror_mode": {
    "name": "ipython",
    "version": 3
   },
   "file_extension": ".py",
   "mimetype": "text/x-python",
   "name": "python",
   "nbconvert_exporter": "python",
   "pygments_lexer": "ipython3",
   "version": "3.7.3"
  }
 },
 "nbformat": 4,
 "nbformat_minor": 2
}
